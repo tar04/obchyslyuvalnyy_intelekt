{
 "cells": [
  {
   "cell_type": "markdown",
   "source": [
    "# <font color='red'>Греція</font>\n",
    "\n",
    "![Прапор Греції](https://emojigraph.org/media/facebook/flag-greece_1f1ec-1f1f7.png)\n",
    "\n",
    "## Основні характеристики\n",
    "\n",
    "- **Площа:** 131,957 кв. км\n",
    "- **Населення:** Близько 10.4 мільйонів\n",
    "- **Державний устрій:** Парламентська республіка\n",
    "\n",
    "## Видатні персонажі\n",
    "\n",
    "Грецька історія та культура відома своїми видатними особистостями. Деякі з них:\n",
    "\n",
    "- _Сократ:_ Відомий філософ та вчитель.\n",
    "- _Архімед:_ Видатний математик і фізик.\n",
    "- _Александр Великий:_ Завойовник і воєначальник, який розширив македонську імперію.\n",
    "\n",
    "## Пам'ятки культури та природи\n",
    "\n",
    "Грецька культура багата на архітектурні та історичні пам'ятки. Деякі з них включають:\n",
    "\n",
    "1. **Акрополь Афін:** Давньогрецька фортеця та храм Парфенон.\n",
    "2. **Дельфи:** Місто з храмами та античними руїнами.\n",
    "3. **Метеора:** Комплекс монастирів, що розташовані на високих скелях.\n",
    "\n",
    "## Прапор Греції\n",
    "\n",
    "\n",
    "<img src=\"https://creazilla-store.fra1.digitaloceanspaces.com/emojis/62141/greece-flag-emoji-clipart-sm.png\" alt=\"Гайани\" width=\"200\" height=\"120\">\n",
    "\n",
    "[Докладніше про Грецію](https://uk.wikipedia.org/wiki/%D0%93%D1%80%D0%B5%D1%86%D1%96%D1%8F)"
   ],
   "metadata": {
    "collapsed": false
   },
   "id": "bb4b0b4c11115dd8"
  },
  {
   "cell_type": "code",
   "execution_count": 46,
   "outputs": [],
   "source": [
    "def is_prime(num):\n",
    "    if num <= 1:\n",
    "        return False\n",
    "    if num == 2:\n",
    "        return True\n",
    "    if num % 2 == 0:\n",
    "        return False\n",
    "    for i in range(3, int(num ** 0.5) + 1, 2):\n",
    "        if num % i == 0:\n",
    "            return False\n",
    "    return True"
   ],
   "metadata": {
    "collapsed": false,
    "ExecuteTime": {
     "end_time": "2023-10-11T22:29:42.478886Z",
     "start_time": "2023-10-11T22:29:42.474645Z"
    }
   },
   "id": "bfa51b5c4f30f85e"
  },
  {
   "cell_type": "code",
   "execution_count": 47,
   "outputs": [],
   "source": [
    "def goldbach_conjecture(n):\n",
    "    if n % 2 != 0 or n <= 2:\n",
    "        return \"Непарне число або менше, ніж 2.\"\n",
    "\n",
    "    for i in range(2, n // 2 + 1):\n",
    "        if is_prime(i) and is_prime(n - i):\n",
    "             return f\"Число {n} можна представити як {i} + {n - i}\"\n",
    "\n",
    "    return \"Не вдалося знайти два простих числа для представлення.\""
   ],
   "metadata": {
    "collapsed": false,
    "ExecuteTime": {
     "end_time": "2023-10-11T22:29:42.487746Z",
     "start_time": "2023-10-11T22:29:42.478192Z"
    }
   },
   "id": "6701d99eecb224e3"
  },
  {
   "cell_type": "code",
   "execution_count": 48,
   "outputs": [],
   "source": [
    "def task_1():\n",
    "    input_number = input(\"Введіть будь яке парне число окрім 2: \")\n",
    "    conjecture_res = goldbach_conjecture(int(input_number))\n",
    "    print(conjecture_res)"
   ],
   "metadata": {
    "collapsed": false,
    "ExecuteTime": {
     "end_time": "2023-10-11T22:29:42.498999Z",
     "start_time": "2023-10-11T22:29:42.485223Z"
    }
   },
   "id": "a8af59d6d57e109d"
  },
  {
   "cell_type": "code",
   "execution_count": 49,
   "outputs": [
    {
     "name": "stdout",
     "output_type": "stream",
     "text": [
      "Число 28 можна представити як 5 + 23\n"
     ]
    }
   ],
   "source": [
    "    task_1()"
   ],
   "metadata": {
    "collapsed": false,
    "ExecuteTime": {
     "end_time": "2023-10-11T22:29:45.509796Z",
     "start_time": "2023-10-11T22:29:42.490897Z"
    }
   },
   "id": "8848b2b063b38fd7"
  },
  {
   "cell_type": "code",
   "execution_count": 49,
   "outputs": [],
   "source": [],
   "metadata": {
    "collapsed": false,
    "ExecuteTime": {
     "end_time": "2023-10-11T22:29:45.509984Z",
     "start_time": "2023-10-11T22:29:45.489817Z"
    }
   },
   "id": "adab3bac216cc08a"
  }
 ],
 "metadata": {
  "kernelspec": {
   "display_name": "Python 3",
   "language": "python",
   "name": "python3"
  },
  "language_info": {
   "codemirror_mode": {
    "name": "ipython",
    "version": 2
   },
   "file_extension": ".py",
   "mimetype": "text/x-python",
   "name": "python",
   "nbconvert_exporter": "python",
   "pygments_lexer": "ipython2",
   "version": "2.7.6"
  }
 },
 "nbformat": 4,
 "nbformat_minor": 5
}
