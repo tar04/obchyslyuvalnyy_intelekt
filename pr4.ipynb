{
 "cells": [
  {
   "cell_type": "markdown",
   "source": [
    "# <font color='red'>Греція</font>\n",
    "\n",
    "![Прапор Греції](https://emojigraph.org/media/facebook/flag-greece_1f1ec-1f1f7.png)\n",
    "\n",
    "## Основні характеристики\n",
    "\n",
    "- **Площа:** 131,957 кв. км\n",
    "- **Населення:** Близько 10.4 мільйонів\n",
    "- **Державний устрій:** Парламентська республіка\n",
    "\n",
    "## Видатні персонажі\n",
    "\n",
    "Грецька історія та культура відома своїми видатними особистостями. Деякі з них:\n",
    "\n",
    "- _Сократ:_ Відомий філософ та вчитель.\n",
    "- _Архімед:_ Видатний математик і фізик.\n",
    "- _Александр Великий:_ Завойовник і воєначальник, який розширив македонську імперію.\n",
    "\n",
    "## Пам'ятки культури та природи\n",
    "\n",
    "Грецька культура багата на архітектурні та історичні пам'ятки. Деякі з них включають:\n",
    "\n",
    "1. **Акрополь Афін:** Давньогрецька фортеця та храм Парфенон.\n",
    "2. **Дельфи:** Місто з храмами та античними руїнами.\n",
    "3. **Метеора:** Комплекс монастирів, що розташовані на високих скелях.\n",
    "\n",
    "## Прапор Греції\n",
    "\n",
    "\n",
    "<img src=\"https://creazilla-store.fra1.digitaloceanspaces.com/emojis/62141/greece-flag-emoji-clipart-sm.png\" alt=\"Гайани\" width=\"200\" height=\"120\">\n",
    "\n",
    "[Докладніше про Грецію](https://uk.wikipedia.org/wiki/%D0%93%D1%80%D0%B5%D1%86%D1%96%D1%8F)"
   ],
   "metadata": {
    "collapsed": false
   },
   "id": "bb4b0b4c11115dd8"
  },
  {
   "cell_type": "code",
   "execution_count": 42,
   "outputs": [],
   "source": [
    "def is_prime(num):\n",
    "    if num <= 1:\n",
    "        return False\n",
    "    if num == 2:\n",
    "        return True\n",
    "    if num % 2 == 0:\n",
    "        return False\n",
    "    for i in range(3, int(num ** 0.5) + 1, 2):\n",
    "        if num % i == 0:\n",
    "            return False\n",
    "    return True"
   ],
   "metadata": {
    "collapsed": false,
    "ExecuteTime": {
     "end_time": "2023-10-11T22:26:29.138999Z",
     "start_time": "2023-10-11T22:26:29.121480Z"
    }
   },
   "id": "bfa51b5c4f30f85e"
  },
  {
   "cell_type": "code",
   "execution_count": 43,
   "outputs": [],
   "source": [
    "def goldbach_conjecture(n):\n",
    "    if n % 2 != 0 or n <= 2:\n",
    "        return \"Непарне число або менше, ніж 2.\"\n",
    "\n",
    "    for i in range(2, n // 2 + 1):\n",
    "        if is_prime(i) and is_prime(n - i):\n",
    "             return f\"Число {n} можна представити як {i} + {n - i}\"\n",
    "\n",
    "    return \"Не вдалося знайти два простих числа для представлення.\""
   ],
   "metadata": {
    "collapsed": false,
    "ExecuteTime": {
     "end_time": "2023-10-11T22:26:29.141187Z",
     "start_time": "2023-10-11T22:26:29.127404Z"
    }
   },
   "id": "6701d99eecb224e3"
  },
  {
   "cell_type": "code",
   "execution_count": 44,
   "outputs": [],
   "source": [
    "def task_1():\n",
    "    input_number = input(\"Введіть будь яке парне число окрім 2: \")\n",
    "    conjecture_res = goldbach_conjecture(int(input_number))\n",
    "    print(conjecture_res)"
   ],
   "metadata": {
    "collapsed": false,
    "ExecuteTime": {
     "end_time": "2023-10-11T22:26:29.154838Z",
     "start_time": "2023-10-11T22:26:29.132288Z"
    }
   },
   "id": "a8af59d6d57e109d"
  },
  {
   "cell_type": "code",
   "execution_count": 45,
   "outputs": [
    {
     "ename": "TypeError",
     "evalue": "'float' object cannot be interpreted as an integer",
     "output_type": "error",
     "traceback": [
      "\u001B[0;31m---------------------------------------------------------------------------\u001B[0m",
      "\u001B[0;31mTypeError\u001B[0m                                 Traceback (most recent call last)",
      "Cell \u001B[0;32mIn[45], line 1\u001B[0m\n\u001B[0;32m----> 1\u001B[0m \u001B[43mtask_1\u001B[49m\u001B[43m(\u001B[49m\u001B[43m)\u001B[49m\n",
      "Cell \u001B[0;32mIn[44], line 3\u001B[0m, in \u001B[0;36mtask_1\u001B[0;34m()\u001B[0m\n\u001B[1;32m      1\u001B[0m \u001B[38;5;28;01mdef\u001B[39;00m \u001B[38;5;21mtask_1\u001B[39m():\n\u001B[1;32m      2\u001B[0m     input_number \u001B[38;5;241m=\u001B[39m \u001B[38;5;28minput\u001B[39m(\u001B[38;5;124m\"\u001B[39m\u001B[38;5;124mВведіть будь яке парне число окрім 2: \u001B[39m\u001B[38;5;124m\"\u001B[39m)\n\u001B[0;32m----> 3\u001B[0m     conjecture_res \u001B[38;5;241m=\u001B[39m \u001B[43mgoldbach_conjecture\u001B[49m\u001B[43m(\u001B[49m\u001B[38;5;28;43mint\u001B[39;49m\u001B[43m(\u001B[49m\u001B[43minput_number\u001B[49m\u001B[43m)\u001B[49m\u001B[43m)\u001B[49m\n\u001B[1;32m      4\u001B[0m     \u001B[38;5;28mprint\u001B[39m(conjecture_res)\n",
      "Cell \u001B[0;32mIn[43], line 6\u001B[0m, in \u001B[0;36mgoldbach_conjecture\u001B[0;34m(n)\u001B[0m\n\u001B[1;32m      3\u001B[0m     \u001B[38;5;28;01mreturn\u001B[39;00m \u001B[38;5;124m\"\u001B[39m\u001B[38;5;124mНепарне число або менше, ніж 2.\u001B[39m\u001B[38;5;124m\"\u001B[39m\n\u001B[1;32m      5\u001B[0m \u001B[38;5;28;01mfor\u001B[39;00m i \u001B[38;5;129;01min\u001B[39;00m \u001B[38;5;28mrange\u001B[39m(\u001B[38;5;241m2\u001B[39m, n \u001B[38;5;241m/\u001B[39m\u001B[38;5;241m/\u001B[39m \u001B[38;5;241m2\u001B[39m \u001B[38;5;241m+\u001B[39m \u001B[38;5;241m1\u001B[39m):\n\u001B[0;32m----> 6\u001B[0m     \u001B[38;5;28;01mif\u001B[39;00m \u001B[43mis_prime\u001B[49m\u001B[43m(\u001B[49m\u001B[43mi\u001B[49m\u001B[43m)\u001B[49m \u001B[38;5;129;01mand\u001B[39;00m is_prime(n \u001B[38;5;241m-\u001B[39m i):\n\u001B[1;32m      7\u001B[0m          \u001B[38;5;28;01mreturn\u001B[39;00m \u001B[38;5;124mf\u001B[39m\u001B[38;5;124m\"\u001B[39m\u001B[38;5;124mЧисло \u001B[39m\u001B[38;5;132;01m{\u001B[39;00mn\u001B[38;5;132;01m}\u001B[39;00m\u001B[38;5;124m можна представити як \u001B[39m\u001B[38;5;132;01m{\u001B[39;00mi\u001B[38;5;132;01m}\u001B[39;00m\u001B[38;5;124m + \u001B[39m\u001B[38;5;132;01m{\u001B[39;00mn\u001B[38;5;250m \u001B[39m\u001B[38;5;241m-\u001B[39m\u001B[38;5;250m \u001B[39mi\u001B[38;5;132;01m}\u001B[39;00m\u001B[38;5;124m\"\u001B[39m\n\u001B[1;32m      9\u001B[0m \u001B[38;5;28;01mreturn\u001B[39;00m \u001B[38;5;124m\"\u001B[39m\u001B[38;5;124mНе вдалося знайти два простих числа для представлення.\u001B[39m\u001B[38;5;124m\"\u001B[39m\n",
      "Cell \u001B[0;32mIn[42], line 8\u001B[0m, in \u001B[0;36mis_prime\u001B[0;34m(num)\u001B[0m\n\u001B[1;32m      6\u001B[0m \u001B[38;5;28;01mif\u001B[39;00m num \u001B[38;5;241m%\u001B[39m \u001B[38;5;241m2\u001B[39m \u001B[38;5;241m==\u001B[39m \u001B[38;5;241m0\u001B[39m:\n\u001B[1;32m      7\u001B[0m     \u001B[38;5;28;01mreturn\u001B[39;00m \u001B[38;5;28;01mFalse\u001B[39;00m\n\u001B[0;32m----> 8\u001B[0m \u001B[38;5;28;01mfor\u001B[39;00m i \u001B[38;5;129;01min\u001B[39;00m \u001B[38;5;28;43mrange\u001B[39;49m\u001B[43m(\u001B[49m\u001B[38;5;241;43m3\u001B[39;49m\u001B[43m,\u001B[49m\u001B[43m \u001B[49m\u001B[43mnum\u001B[49m\u001B[43m \u001B[49m\u001B[38;5;241;43m*\u001B[39;49m\u001B[38;5;241;43m*\u001B[39;49m\u001B[43m \u001B[49m\u001B[38;5;241;43m0.5\u001B[39;49m\u001B[43m \u001B[49m\u001B[38;5;241;43m+\u001B[39;49m\u001B[43m \u001B[49m\u001B[38;5;241;43m1\u001B[39;49m\u001B[43m,\u001B[49m\u001B[43m \u001B[49m\u001B[38;5;241;43m2\u001B[39;49m\u001B[43m)\u001B[49m:\n\u001B[1;32m      9\u001B[0m     \u001B[38;5;28;01mif\u001B[39;00m num \u001B[38;5;241m%\u001B[39m i \u001B[38;5;241m==\u001B[39m \u001B[38;5;241m0\u001B[39m:\n\u001B[1;32m     10\u001B[0m         \u001B[38;5;28;01mreturn\u001B[39;00m \u001B[38;5;28;01mFalse\u001B[39;00m\n",
      "\u001B[0;31mTypeError\u001B[0m: 'float' object cannot be interpreted as an integer"
     ]
    }
   ],
   "source": [
    "    task_1()"
   ],
   "metadata": {
    "collapsed": false,
    "ExecuteTime": {
     "end_time": "2023-10-11T22:26:31.674183Z",
     "start_time": "2023-10-11T22:26:29.137305Z"
    }
   },
   "id": "8848b2b063b38fd7"
  },
  {
   "cell_type": "code",
   "execution_count": null,
   "outputs": [],
   "source": [],
   "metadata": {
    "collapsed": false,
    "ExecuteTime": {
     "start_time": "2023-10-11T22:26:31.673349Z"
    }
   },
   "id": "adab3bac216cc08a"
  }
 ],
 "metadata": {
  "kernelspec": {
   "display_name": "Python 3",
   "language": "python",
   "name": "python3"
  },
  "language_info": {
   "codemirror_mode": {
    "name": "ipython",
    "version": 2
   },
   "file_extension": ".py",
   "mimetype": "text/x-python",
   "name": "python",
   "nbconvert_exporter": "python",
   "pygments_lexer": "ipython2",
   "version": "2.7.6"
  }
 },
 "nbformat": 4,
 "nbformat_minor": 5
}
